{
 "cells": [
  {
   "cell_type": "code",
   "execution_count": 1,
   "id": "ee82f849-e4af-4a60-a38b-d2ad909c6e6c",
   "metadata": {},
   "outputs": [],
   "source": [
    "# import the necessary packages\n",
    "from tensorflow.keras.applications.mobilenet_v2 import preprocess_input\n",
    "from tensorflow.keras.preprocessing.image import img_to_array\n",
    "from tensorflow.keras.models import load_model\n",
    "from imutils.video import VideoStream\n",
    "import numpy as np\n",
    "import imutils\n",
    "import time\n",
    "import cv2\n",
    "import os\n",
    "import cvzone"
   ]
  },
  {
   "cell_type": "code",
   "execution_count": 2,
   "id": "a8dfd3c5-6f76-4eaa-b8d5-3bdf341f4f9b",
   "metadata": {},
   "outputs": [
    {
     "name": "stdout",
     "output_type": "stream",
     "text": [
      "YOLOv3 model loaded successfully!\n",
      "COCO class labels loaded successfully!\n"
     ]
    }
   ],
   "source": [
    "# Load YOLOv3 weights and configuration\n",
    "weights_path = r\"C:\\Users\\ragus\\Spoon_detection_yolov3\\spoon_detector\\yolov3.weights\"\n",
    "config_path = r\"C:\\Users\\ragus\\Spoon_detection_yolov3\\spoon_detector\\yolov3.cfg\"\n",
    "\n",
    "try:\n",
    "    net = cv2.dnn.readNet(weights_path, config_path)\n",
    "    print(\"YOLOv3 model loaded successfully!\")\n",
    "except cv2.error as e:\n",
    "    print(f\"Error loading YOLOv3 model: {e}\")\n",
    "\n",
    "# Load COCO class labels (customize this based on your dataset)\n",
    "try:\n",
    "    with open(r\"C:\\Users\\ragus\\Spoon_detection_yolov3\\spoon_detector\\coco.names\", \"r\") as f:\n",
    "        classes = [line.strip() for line in f.readlines()]\n",
    "    print(\"COCO class labels loaded successfully!\")\n",
    "except FileNotFoundError:\n",
    "    print(\"Error: 'coco.names' file not found. Please download it or specify the correct path.\")\n",
    "\n",
    "# Function to get output layer names\n",
    "def get_output_layers(net):\n",
    "    layer_names = net.getLayerNames()\n",
    "    output_layers = [layer_names[i - 1] for i in net.getUnconnectedOutLayers()]\n",
    "    return output_layers\n",
    "\n",
    "# Function to draw bounding box and label\n",
    "def draw_prediction(img, class_id, confidence, x, y, x_plus_w, y_plus_h):\n",
    "    label = str(classes[class_id])\n",
    "    color = (0, 255, 0)\n",
    "    cv2.rectangle(img, (x,y), (x_plus_w,y_plus_h), color, 2)\n",
    "    cv2.putText(img, label, (x-10,y-10), cv2.FONT_HERSHEY_SIMPLEX, 0.5, color, 2)\n"
   ]
  },
  {
   "cell_type": "code",
   "execution_count": 3,
   "id": "b703b15a-2f6c-4e0b-b748-fefbcaa3dfdc",
   "metadata": {},
   "outputs": [],
   "source": [
    "vs = VideoStream(src=0).start()  # for webcam\n",
    "# vs = VideoStream(path_to_video_file).start()  # for video file\n",
    "time.sleep(2.0)  # allow the camera or video file to warm up"
   ]
  },
  {
   "cell_type": "code",
   "execution_count": 4,
   "id": "75d6af4c-212d-4738-b683-fc57e32a0c89",
   "metadata": {},
   "outputs": [],
   "source": [
    "while True:\n",
    "    frame = vs.read()\n",
    "    frame = imutils.resize(frame, width=800)  # resize if necessary\n",
    "    height, width = frame.shape[:2]\n",
    "\n",
    "    # YOLO input preprocessing\n",
    "    blob = cv2.dnn.blobFromImage(frame, 1/255.0, (416, 416), swapRB=True, crop=False)\n",
    "    net.setInput(blob)\n",
    "    start = time.time()\n",
    "    layer_outputs = net.forward(get_output_layers(net))\n",
    "    end = time.time()\n",
    "\n",
    "    # Process detections\n",
    "    boxes = []\n",
    "    confidences = []\n",
    "    class_ids = []\n",
    "\n",
    "    for output in layer_outputs:\n",
    "        for detection in output:\n",
    "            scores = detection[5:]\n",
    "            class_id = np.argmax(scores)\n",
    "            confidence = scores[class_id]\n",
    "\n",
    "            if confidence > 0.5:  # adjust confidence threshold as needed\n",
    "                center_x = int(detection[0] * width)\n",
    "                center_y = int(detection[1] * height)\n",
    "                w = int(detection[2] * width)\n",
    "                h = int(detection[3] * height)\n",
    "\n",
    "                x = int(center_x - w / 2)\n",
    "                y = int(center_y - h / 2)\n",
    "\n",
    "                boxes.append([x, y, w, h])\n",
    "                confidences.append(float(confidence))\n",
    "                class_ids.append(class_id)\n",
    "\n",
    "    # Apply non-maxima suppression to suppress weak, overlapping bounding boxes\n",
    "    indices = cv2.dnn.NMSBoxes(boxes, confidences, score_threshold=0.5, nms_threshold=0.4)\n",
    "\n",
    "    if len(indices) > 0:\n",
    "        for i in indices.flatten():\n",
    "            x, y, w, h = boxes[i]\n",
    "            draw_prediction(frame, class_ids[i], confidences[i], x, y, x + w, y + h)\n",
    "\n",
    "    # Display the resulting frame\n",
    "    cv2.imshow('Object Detection', frame)\n",
    "\n",
    "    key = cv2.waitKey(1) & 0xFF\n",
    "    if key == ord('q'):\n",
    "        break\n",
    "\n",
    "# Clean up\n",
    "cv2.destroyAllWindows()\n",
    "vs.stop()  # if using VideoStream\n"
   ]
  },
  {
   "cell_type": "code",
   "execution_count": null,
   "id": "fed15e77-37d6-436a-8f2d-19a0c9e5aac3",
   "metadata": {},
   "outputs": [],
   "source": []
  }
 ],
 "metadata": {
  "kernelspec": {
   "display_name": "Python 3 (ipykernel)",
   "language": "python",
   "name": "python3"
  },
  "language_info": {
   "codemirror_mode": {
    "name": "ipython",
    "version": 3
   },
   "file_extension": ".py",
   "mimetype": "text/x-python",
   "name": "python",
   "nbconvert_exporter": "python",
   "pygments_lexer": "ipython3",
   "version": "3.11.5"
  }
 },
 "nbformat": 4,
 "nbformat_minor": 5
}
